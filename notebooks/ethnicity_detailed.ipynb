{
 "cells": [
  {
   "cell_type": "code",
   "execution_count": 173,
   "metadata": {},
   "outputs": [],
   "source": [
    "# IMPORT REQUIRED PACKAGES\n",
    "import pandas as pd\n",
    "\n",
    "import matplotlib.pyplot as plt\n",
    "\n",
    "import numpy as np\n",
    "\n",
    "import altair as alt\n",
    "\n",
    "import plotly.express as px\n",
    "\n",
    "import plotly.graph_objects as go\n",
    "\n",
    "import plotly.subplots as splt\n",
    "\n",
    "import plotly.subplots as sp\n",
    "\n",
    "from dash import dcc\n",
    "\n",
    "from plotly.subplots import make_subplots\n"
   ]
  },
  {
   "cell_type": "code",
   "execution_count": 174,
   "metadata": {},
   "outputs": [],
   "source": [
    "#READ IN AND CLEAN DATAFRAME \n",
    "\n",
    "df = pd.read_csv('ethnicity_new.csv', header=7)\n",
    "\n",
    "df. rename(columns = {'ualad09:Tower Hamlets': 'Tower','country:England':'England', 'gor:London': 'London'}, inplace = True)\n",
    "\n",
    "df=df.dropna()"
   ]
  },
  {
   "cell_type": "code",
   "execution_count": 175,
   "metadata": {},
   "outputs": [],
   "source": [
    "#SPLIT ETHNIC GROUP INTO ITS COMPONENTS\n",
    "\n",
    "new= df[\"Ethnic Group\"].str.split(\":\", n = 1, expand = True)\n",
    "\n",
    "df['Ethnic Group']= new[0]\n",
    "\n",
    "df['Detail']= new[1]\n"
   ]
  },
  {
   "cell_type": "code",
   "execution_count": 176,
   "metadata": {},
   "outputs": [],
   "source": [
    "#REMOVE NAs TO REMOVE TOTALS \n",
    "\n",
    "df=df.dropna()"
   ]
  },
  {
   "cell_type": "code",
   "execution_count": 190,
   "metadata": {},
   "outputs": [],
   "source": [
    "#CONVERT TO NUMERIC DATA \n",
    "\n",
    "df['Tower']=pd.to_numeric(df['Tower'],downcast='integer')\n",
    "df['London']=pd.to_numeric(df['London'],downcast='integer')\n",
    "df['England']=pd.to_numeric(df['England'],downcast='integer')"
   ]
  },
  {
   "cell_type": "code",
   "execution_count": 189,
   "metadata": {},
   "outputs": [],
   "source": [
    "#SUM COLUMNS\n",
    "\n",
    "towersum= df['Tower'].sum()\n",
    "\n",
    "londonsum= df['London'].sum()\n",
    "\n",
    "englandsum= df['England'].sum()"
   ]
  },
  {
   "cell_type": "code",
   "execution_count": 179,
   "metadata": {},
   "outputs": [],
   "source": [
    "#CREATE PERCENTAGE COLUMNS\n",
    "\n",
    "df['tower_percent']= (df['Tower']/ towersum)*100\n",
    "\n",
    "df['london_percent']= (df['London']/ londonsum)*100\n",
    "\n",
    "df['england_percent']= (df['England']/ englandsum)*100"
   ]
  },
  {
   "cell_type": "code",
   "execution_count": 193,
   "metadata": {},
   "outputs": [
    {
     "name": "stderr",
     "output_type": "stream",
     "text": [
      "c:\\Users\\sophie.porton\\Anaconda3\\lib\\site-packages\\plotly\\express\\_core.py:1637: FutureWarning:\n",
      "\n",
      "The frame.append method is deprecated and will be removed from pandas in a future version. Use pandas.concat instead.\n",
      "\n",
      "c:\\Users\\sophie.porton\\Anaconda3\\lib\\site-packages\\plotly\\express\\_core.py:1637: FutureWarning:\n",
      "\n",
      "The frame.append method is deprecated and will be removed from pandas in a future version. Use pandas.concat instead.\n",
      "\n",
      "c:\\Users\\sophie.porton\\Anaconda3\\lib\\site-packages\\plotly\\express\\_core.py:1637: FutureWarning:\n",
      "\n",
      "The frame.append method is deprecated and will be removed from pandas in a future version. Use pandas.concat instead.\n",
      "\n",
      "c:\\Users\\sophie.porton\\Anaconda3\\lib\\site-packages\\plotly\\express\\_core.py:1637: FutureWarning:\n",
      "\n",
      "The frame.append method is deprecated and will be removed from pandas in a future version. Use pandas.concat instead.\n",
      "\n",
      "c:\\Users\\sophie.porton\\Anaconda3\\lib\\site-packages\\plotly\\express\\_core.py:1637: FutureWarning:\n",
      "\n",
      "The frame.append method is deprecated and will be removed from pandas in a future version. Use pandas.concat instead.\n",
      "\n",
      "c:\\Users\\sophie.porton\\Anaconda3\\lib\\site-packages\\plotly\\express\\_core.py:1637: FutureWarning:\n",
      "\n",
      "The frame.append method is deprecated and will be removed from pandas in a future version. Use pandas.concat instead.\n",
      "\n"
     ]
    }
   ],
   "source": [
    "#CREATE BASEPLOTS IN PLOTY EXPRESS\n",
    "\n",
    "tower_hamlets = px.sunburst(df, path=['Ethnic Group','Detail' ], values='tower_percent')\n",
    "\n",
    "london = px.sunburst(df, path=['Ethnic Group','Detail' ], values='london_percent')\n",
    "\n",
    "england = px.sunburst(df, path=['Ethnic Group','Detail' ], values='england_percent')\n"
   ]
  },
  {
   "cell_type": "code",
   "execution_count": 201,
   "metadata": {},
   "outputs": [
    {
     "data": {
      "application/vnd.plotly.v1+json": {
       "config": {
        "plotlyServerURL": "https://plot.ly"
       },
       "data": [
        {
         "branchvalues": "total",
         "domain": {
          "x": [
           0,
           0.2888888888888889
          ],
          "y": [
           0,
           1
          ]
         },
         "hovertemplate": "<b>Ethnic Group:</b> %{label} <br><b>Percentage:</b> %{value:.2f}%<br></b><extra></extra>",
         "labels": [
          " African",
          " Any other ethnic group",
          " Arab",
          " Bangladeshi",
          " Caribbean",
          " Chinese",
          " English/Welsh/Scottish/Northern Irish/British",
          " Gypsy or Irish Traveller",
          " Indian",
          " Irish",
          " Other Asian",
          " Other Black",
          " Other Mixed",
          " Other White",
          " Pakistani",
          " White and Asian",
          " White and Black African",
          " White and Black Caribbean",
          "Asian/Asian British",
          "Black/African/Caribbean/Black British",
          "Mixed/multiple ethnic groups",
          "Other ethnic group",
          "White"
         ],
         "parents": [
          "Black/African/Caribbean/Black British",
          "Other ethnic group",
          "Other ethnic group",
          "Asian/Asian British",
          "Black/African/Caribbean/Black British",
          "Asian/Asian British",
          "White",
          "White",
          "Asian/Asian British",
          "White",
          "Asian/Asian British",
          "Black/African/Caribbean/Black British",
          "Mixed/multiple ethnic groups",
          "White",
          "Asian/Asian British",
          "Mixed/multiple ethnic groups",
          "Mixed/multiple ethnic groups",
          "Mixed/multiple ethnic groups",
          "",
          "",
          "",
          "",
          ""
         ],
         "type": "sunburst",
         "values": [
          3.7367766513443734,
          1.2648762672375795,
          1.0126094074680436,
          32.026084629431395,
          2.1019614633839176,
          3.1913135192997926,
          31.181521944461938,
          0.06887160758138657,
          2.671037718027832,
          1.5202915433536932,
          2.277092122662301,
          1.4927429003211385,
          1.2015143882627037,
          12.416566966815692,
          0.9610540897928341,
          1.1653076002770606,
          0.5938700333732133,
          1.1165071469051067,
          41.12658207921415,
          7.331481015049429,
          4.077199168818084,
          2.2774856747056234,
          45.18725206221271
         ]
        },
        {
         "branchvalues": "total",
         "domain": {
          "x": [
           0.35555555555555557,
           0.6444444444444445
          ],
          "y": [
           0,
           1
          ]
         },
         "hovertemplate": "<b>Ethnic Group:</b> %{label} <br><b>Percentage:</b> %{value:.2f}%<br></b><extra></extra>",
         "labels": [
          " African",
          " Any other ethnic group",
          " Arab",
          " Bangladeshi",
          " Caribbean",
          " Chinese",
          " English/Welsh/Scottish/Northern Irish/British",
          " Gypsy or Irish Traveller",
          " Indian",
          " Irish",
          " Other Asian",
          " Other Black",
          " Other Mixed",
          " Other White",
          " Pakistani",
          " White and Asian",
          " White and Black African",
          " White and Black Caribbean",
          "Asian/Asian British",
          "Black/African/Caribbean/Black British",
          "Mixed/multiple ethnic groups",
          "Other ethnic group",
          "White"
         ],
         "parents": [
          "Black/African/Caribbean/Black British",
          "Other ethnic group",
          "Other ethnic group",
          "Asian/Asian British",
          "Black/African/Caribbean/Black British",
          "Asian/Asian British",
          "White",
          "White",
          "Asian/Asian British",
          "White",
          "Asian/Asian British",
          "Black/African/Caribbean/Black British",
          "Mixed/multiple ethnic groups",
          "White",
          "Asian/Asian British",
          "Mixed/multiple ethnic groups",
          "Mixed/multiple ethnic groups",
          "Mixed/multiple ethnic groups",
          "",
          "",
          "",
          "",
          ""
         ],
         "type": "sunburst",
         "values": [
          7.02147226166668,
          2.1412070383184805,
          1.2970487553066508,
          2.717501875778159,
          4.215799942769345,
          1.5200745882555307,
          44.89002306231474,
          0.10026986982166865,
          6.6413129235946275,
          2.1528660409954026,
          4.875432793067628,
          2.081150328831588,
          1.4543168344376354,
          12.649724288442993,
          2.73793265696437,
          1.2417510720960672,
          0.8010701325101319,
          1.4610455348283038,
          18.492254837660315,
          13.318422533267611,
          4.958183573872138,
          3.4382557936251312,
          59.7928832615748
         ]
        },
        {
         "branchvalues": "total",
         "domain": {
          "x": [
           0.7111111111111111,
           1
          ],
          "y": [
           0,
           1
          ]
         },
         "hovertemplate": "<b>Ethnic Group:</b> %{label} <br><b>Percentage:</b> %{value:.2f}%<br></b><extra></extra>",
         "labels": [
          " African",
          " Any other ethnic group",
          " Arab",
          " Bangladeshi",
          " Caribbean",
          " Chinese",
          " English/Welsh/Scottish/Northern Irish/British",
          " Gypsy or Irish Traveller",
          " Indian",
          " Irish",
          " Other Asian",
          " Other Black",
          " Other Mixed",
          " Other White",
          " Pakistani",
          " White and Asian",
          " White and Black African",
          " White and Black Caribbean",
          "Asian/Asian British",
          "Black/African/Caribbean/Black British",
          "Mixed/multiple ethnic groups",
          "Other ethnic group",
          "White"
         ],
         "parents": [
          "Black/African/Caribbean/Black British",
          "Other ethnic group",
          "Other ethnic group",
          "Asian/Asian British",
          "Black/African/Caribbean/Black British",
          "Asian/Asian British",
          "White",
          "White",
          "Asian/Asian British",
          "White",
          "Asian/Asian British",
          "Black/African/Caribbean/Black British",
          "Mixed/multiple ethnic groups",
          "White",
          "Asian/Asian British",
          "Mixed/multiple ethnic groups",
          "Mixed/multiple ethnic groups",
          "Mixed/multiple ethnic groups",
          "",
          "",
          "",
          "",
          ""
         ],
         "type": "sunburst",
         "values": [
          1.8443608800165756,
          0.6176529531097371,
          0.4168548614310569,
          0.8234178020350538,
          1.1148625145758198,
          0.715875152058603,
          79.7533998424823,
          0.10355113522753973,
          2.6327812467319003,
          0.9752443840745655,
          1.5456782458824394,
          0.5241353088791056,
          0.5338462341756058,
          4.583847237713341,
          2.0981521776693386,
          0.627603444745137,
          0.30473970117513516,
          0.7839968780167439,
          7.815904624377335,
          3.483358703471501,
          2.2501862581126217,
          1.034507814540794,
          85.41604259949774
         ]
        }
       ],
       "layout": {
        "annotations": [
         {
          "font": {
           "family": "Helvetica",
           "size": 35
          },
          "showarrow": false,
          "text": "Tower Hamlets",
          "x": 0.1,
          "xanchor": "center",
          "xref": "paper",
          "y": 1,
          "yanchor": "bottom",
          "yref": "paper"
         },
         {
          "font": {
           "family": "Helvetica",
           "size": 35
          },
          "showarrow": false,
          "text": "London",
          "x": 0.42,
          "xanchor": "center",
          "xref": "paper",
          "y": 1,
          "yanchor": "bottom",
          "yref": "paper"
         },
         {
          "font": {
           "family": "Helvetica",
           "size": 35
          },
          "showarrow": false,
          "text": "England",
          "x": 0.77,
          "xanchor": "center",
          "xref": "paper",
          "y": 1,
          "yanchor": "bottom",
          "yref": "paper"
         }
        ],
        "height": 600,
        "margin": {
         "b": 0,
         "l": 0,
         "r": 0,
         "t": 40
        },
        "template": {
         "data": {
          "bar": [
           {
            "error_x": {
             "color": "#2a3f5f"
            },
            "error_y": {
             "color": "#2a3f5f"
            },
            "marker": {
             "line": {
              "color": "#E5ECF6",
              "width": 0.5
             },
             "pattern": {
              "fillmode": "overlay",
              "size": 10,
              "solidity": 0.2
             }
            },
            "type": "bar"
           }
          ],
          "barpolar": [
           {
            "marker": {
             "line": {
              "color": "#E5ECF6",
              "width": 0.5
             },
             "pattern": {
              "fillmode": "overlay",
              "size": 10,
              "solidity": 0.2
             }
            },
            "type": "barpolar"
           }
          ],
          "carpet": [
           {
            "aaxis": {
             "endlinecolor": "#2a3f5f",
             "gridcolor": "white",
             "linecolor": "white",
             "minorgridcolor": "white",
             "startlinecolor": "#2a3f5f"
            },
            "baxis": {
             "endlinecolor": "#2a3f5f",
             "gridcolor": "white",
             "linecolor": "white",
             "minorgridcolor": "white",
             "startlinecolor": "#2a3f5f"
            },
            "type": "carpet"
           }
          ],
          "choropleth": [
           {
            "colorbar": {
             "outlinewidth": 0,
             "ticks": ""
            },
            "type": "choropleth"
           }
          ],
          "contour": [
           {
            "colorbar": {
             "outlinewidth": 0,
             "ticks": ""
            },
            "colorscale": [
             [
              0,
              "#0d0887"
             ],
             [
              0.1111111111111111,
              "#46039f"
             ],
             [
              0.2222222222222222,
              "#7201a8"
             ],
             [
              0.3333333333333333,
              "#9c179e"
             ],
             [
              0.4444444444444444,
              "#bd3786"
             ],
             [
              0.5555555555555556,
              "#d8576b"
             ],
             [
              0.6666666666666666,
              "#ed7953"
             ],
             [
              0.7777777777777778,
              "#fb9f3a"
             ],
             [
              0.8888888888888888,
              "#fdca26"
             ],
             [
              1,
              "#f0f921"
             ]
            ],
            "type": "contour"
           }
          ],
          "contourcarpet": [
           {
            "colorbar": {
             "outlinewidth": 0,
             "ticks": ""
            },
            "type": "contourcarpet"
           }
          ],
          "heatmap": [
           {
            "colorbar": {
             "outlinewidth": 0,
             "ticks": ""
            },
            "colorscale": [
             [
              0,
              "#0d0887"
             ],
             [
              0.1111111111111111,
              "#46039f"
             ],
             [
              0.2222222222222222,
              "#7201a8"
             ],
             [
              0.3333333333333333,
              "#9c179e"
             ],
             [
              0.4444444444444444,
              "#bd3786"
             ],
             [
              0.5555555555555556,
              "#d8576b"
             ],
             [
              0.6666666666666666,
              "#ed7953"
             ],
             [
              0.7777777777777778,
              "#fb9f3a"
             ],
             [
              0.8888888888888888,
              "#fdca26"
             ],
             [
              1,
              "#f0f921"
             ]
            ],
            "type": "heatmap"
           }
          ],
          "heatmapgl": [
           {
            "colorbar": {
             "outlinewidth": 0,
             "ticks": ""
            },
            "colorscale": [
             [
              0,
              "#0d0887"
             ],
             [
              0.1111111111111111,
              "#46039f"
             ],
             [
              0.2222222222222222,
              "#7201a8"
             ],
             [
              0.3333333333333333,
              "#9c179e"
             ],
             [
              0.4444444444444444,
              "#bd3786"
             ],
             [
              0.5555555555555556,
              "#d8576b"
             ],
             [
              0.6666666666666666,
              "#ed7953"
             ],
             [
              0.7777777777777778,
              "#fb9f3a"
             ],
             [
              0.8888888888888888,
              "#fdca26"
             ],
             [
              1,
              "#f0f921"
             ]
            ],
            "type": "heatmapgl"
           }
          ],
          "histogram": [
           {
            "marker": {
             "pattern": {
              "fillmode": "overlay",
              "size": 10,
              "solidity": 0.2
             }
            },
            "type": "histogram"
           }
          ],
          "histogram2d": [
           {
            "colorbar": {
             "outlinewidth": 0,
             "ticks": ""
            },
            "colorscale": [
             [
              0,
              "#0d0887"
             ],
             [
              0.1111111111111111,
              "#46039f"
             ],
             [
              0.2222222222222222,
              "#7201a8"
             ],
             [
              0.3333333333333333,
              "#9c179e"
             ],
             [
              0.4444444444444444,
              "#bd3786"
             ],
             [
              0.5555555555555556,
              "#d8576b"
             ],
             [
              0.6666666666666666,
              "#ed7953"
             ],
             [
              0.7777777777777778,
              "#fb9f3a"
             ],
             [
              0.8888888888888888,
              "#fdca26"
             ],
             [
              1,
              "#f0f921"
             ]
            ],
            "type": "histogram2d"
           }
          ],
          "histogram2dcontour": [
           {
            "colorbar": {
             "outlinewidth": 0,
             "ticks": ""
            },
            "colorscale": [
             [
              0,
              "#0d0887"
             ],
             [
              0.1111111111111111,
              "#46039f"
             ],
             [
              0.2222222222222222,
              "#7201a8"
             ],
             [
              0.3333333333333333,
              "#9c179e"
             ],
             [
              0.4444444444444444,
              "#bd3786"
             ],
             [
              0.5555555555555556,
              "#d8576b"
             ],
             [
              0.6666666666666666,
              "#ed7953"
             ],
             [
              0.7777777777777778,
              "#fb9f3a"
             ],
             [
              0.8888888888888888,
              "#fdca26"
             ],
             [
              1,
              "#f0f921"
             ]
            ],
            "type": "histogram2dcontour"
           }
          ],
          "mesh3d": [
           {
            "colorbar": {
             "outlinewidth": 0,
             "ticks": ""
            },
            "type": "mesh3d"
           }
          ],
          "parcoords": [
           {
            "line": {
             "colorbar": {
              "outlinewidth": 0,
              "ticks": ""
             }
            },
            "type": "parcoords"
           }
          ],
          "pie": [
           {
            "automargin": true,
            "type": "pie"
           }
          ],
          "scatter": [
           {
            "marker": {
             "colorbar": {
              "outlinewidth": 0,
              "ticks": ""
             }
            },
            "type": "scatter"
           }
          ],
          "scatter3d": [
           {
            "line": {
             "colorbar": {
              "outlinewidth": 0,
              "ticks": ""
             }
            },
            "marker": {
             "colorbar": {
              "outlinewidth": 0,
              "ticks": ""
             }
            },
            "type": "scatter3d"
           }
          ],
          "scattercarpet": [
           {
            "marker": {
             "colorbar": {
              "outlinewidth": 0,
              "ticks": ""
             }
            },
            "type": "scattercarpet"
           }
          ],
          "scattergeo": [
           {
            "marker": {
             "colorbar": {
              "outlinewidth": 0,
              "ticks": ""
             }
            },
            "type": "scattergeo"
           }
          ],
          "scattergl": [
           {
            "marker": {
             "colorbar": {
              "outlinewidth": 0,
              "ticks": ""
             }
            },
            "type": "scattergl"
           }
          ],
          "scattermapbox": [
           {
            "marker": {
             "colorbar": {
              "outlinewidth": 0,
              "ticks": ""
             }
            },
            "type": "scattermapbox"
           }
          ],
          "scatterpolar": [
           {
            "marker": {
             "colorbar": {
              "outlinewidth": 0,
              "ticks": ""
             }
            },
            "type": "scatterpolar"
           }
          ],
          "scatterpolargl": [
           {
            "marker": {
             "colorbar": {
              "outlinewidth": 0,
              "ticks": ""
             }
            },
            "type": "scatterpolargl"
           }
          ],
          "scatterternary": [
           {
            "marker": {
             "colorbar": {
              "outlinewidth": 0,
              "ticks": ""
             }
            },
            "type": "scatterternary"
           }
          ],
          "surface": [
           {
            "colorbar": {
             "outlinewidth": 0,
             "ticks": ""
            },
            "colorscale": [
             [
              0,
              "#0d0887"
             ],
             [
              0.1111111111111111,
              "#46039f"
             ],
             [
              0.2222222222222222,
              "#7201a8"
             ],
             [
              0.3333333333333333,
              "#9c179e"
             ],
             [
              0.4444444444444444,
              "#bd3786"
             ],
             [
              0.5555555555555556,
              "#d8576b"
             ],
             [
              0.6666666666666666,
              "#ed7953"
             ],
             [
              0.7777777777777778,
              "#fb9f3a"
             ],
             [
              0.8888888888888888,
              "#fdca26"
             ],
             [
              1,
              "#f0f921"
             ]
            ],
            "type": "surface"
           }
          ],
          "table": [
           {
            "cells": {
             "fill": {
              "color": "#EBF0F8"
             },
             "line": {
              "color": "white"
             }
            },
            "header": {
             "fill": {
              "color": "#C8D4E3"
             },
             "line": {
              "color": "white"
             }
            },
            "type": "table"
           }
          ]
         },
         "layout": {
          "annotationdefaults": {
           "arrowcolor": "#2a3f5f",
           "arrowhead": 0,
           "arrowwidth": 1
          },
          "autotypenumbers": "strict",
          "coloraxis": {
           "colorbar": {
            "outlinewidth": 0,
            "ticks": ""
           }
          },
          "colorscale": {
           "diverging": [
            [
             0,
             "#8e0152"
            ],
            [
             0.1,
             "#c51b7d"
            ],
            [
             0.2,
             "#de77ae"
            ],
            [
             0.3,
             "#f1b6da"
            ],
            [
             0.4,
             "#fde0ef"
            ],
            [
             0.5,
             "#f7f7f7"
            ],
            [
             0.6,
             "#e6f5d0"
            ],
            [
             0.7,
             "#b8e186"
            ],
            [
             0.8,
             "#7fbc41"
            ],
            [
             0.9,
             "#4d9221"
            ],
            [
             1,
             "#276419"
            ]
           ],
           "sequential": [
            [
             0,
             "#0d0887"
            ],
            [
             0.1111111111111111,
             "#46039f"
            ],
            [
             0.2222222222222222,
             "#7201a8"
            ],
            [
             0.3333333333333333,
             "#9c179e"
            ],
            [
             0.4444444444444444,
             "#bd3786"
            ],
            [
             0.5555555555555556,
             "#d8576b"
            ],
            [
             0.6666666666666666,
             "#ed7953"
            ],
            [
             0.7777777777777778,
             "#fb9f3a"
            ],
            [
             0.8888888888888888,
             "#fdca26"
            ],
            [
             1,
             "#f0f921"
            ]
           ],
           "sequentialminus": [
            [
             0,
             "#0d0887"
            ],
            [
             0.1111111111111111,
             "#46039f"
            ],
            [
             0.2222222222222222,
             "#7201a8"
            ],
            [
             0.3333333333333333,
             "#9c179e"
            ],
            [
             0.4444444444444444,
             "#bd3786"
            ],
            [
             0.5555555555555556,
             "#d8576b"
            ],
            [
             0.6666666666666666,
             "#ed7953"
            ],
            [
             0.7777777777777778,
             "#fb9f3a"
            ],
            [
             0.8888888888888888,
             "#fdca26"
            ],
            [
             1,
             "#f0f921"
            ]
           ]
          },
          "colorway": [
           "#636efa",
           "#EF553B",
           "#00cc96",
           "#ab63fa",
           "#FFA15A",
           "#19d3f3",
           "#FF6692",
           "#B6E880",
           "#FF97FF",
           "#FECB52"
          ],
          "font": {
           "color": "#2a3f5f"
          },
          "geo": {
           "bgcolor": "white",
           "lakecolor": "white",
           "landcolor": "#E5ECF6",
           "showlakes": true,
           "showland": true,
           "subunitcolor": "white"
          },
          "hoverlabel": {
           "align": "left"
          },
          "hovermode": "closest",
          "mapbox": {
           "style": "light"
          },
          "paper_bgcolor": "white",
          "plot_bgcolor": "#E5ECF6",
          "polar": {
           "angularaxis": {
            "gridcolor": "white",
            "linecolor": "white",
            "ticks": ""
           },
           "bgcolor": "#E5ECF6",
           "radialaxis": {
            "gridcolor": "white",
            "linecolor": "white",
            "ticks": ""
           }
          },
          "scene": {
           "xaxis": {
            "backgroundcolor": "#E5ECF6",
            "gridcolor": "white",
            "gridwidth": 2,
            "linecolor": "white",
            "showbackground": true,
            "ticks": "",
            "zerolinecolor": "white"
           },
           "yaxis": {
            "backgroundcolor": "#E5ECF6",
            "gridcolor": "white",
            "gridwidth": 2,
            "linecolor": "white",
            "showbackground": true,
            "ticks": "",
            "zerolinecolor": "white"
           },
           "zaxis": {
            "backgroundcolor": "#E5ECF6",
            "gridcolor": "white",
            "gridwidth": 2,
            "linecolor": "white",
            "showbackground": true,
            "ticks": "",
            "zerolinecolor": "white"
           }
          },
          "shapedefaults": {
           "line": {
            "color": "#2a3f5f"
           }
          },
          "ternary": {
           "aaxis": {
            "gridcolor": "white",
            "linecolor": "white",
            "ticks": ""
           },
           "baxis": {
            "gridcolor": "white",
            "linecolor": "white",
            "ticks": ""
           },
           "bgcolor": "#E5ECF6",
           "caxis": {
            "gridcolor": "white",
            "linecolor": "white",
            "ticks": ""
           }
          },
          "title": {
           "x": 0.05
          },
          "xaxis": {
           "automargin": true,
           "gridcolor": "white",
           "linecolor": "white",
           "ticks": "",
           "title": {
            "standoff": 15
           },
           "zerolinecolor": "white",
           "zerolinewidth": 2
          },
          "yaxis": {
           "automargin": true,
           "gridcolor": "white",
           "linecolor": "white",
           "ticks": "",
           "title": {
            "standoff": 15
           },
           "zerolinecolor": "white",
           "zerolinewidth": 2
          }
         }
        },
        "width": 1350
       }
      }
     },
     "metadata": {},
     "output_type": "display_data"
    }
   ],
   "source": [
    "#FORMAT SUBPLOTS USING PLOTLY GRAPH OBJECTS \n",
    "\n",
    "new_fig=make_subplots(1, 3, specs=[[{\"type\": \"domain\"}, {\"type\": \"domain\"},{\"type\": \"domain\"}]], subplot_titles=('Tower Hamlets','London','England'))\n",
    "\n",
    "new_fig.add_trace(go.Sunburst(\n",
    "                labels=tower_hamlets['data'][0]['labels'].tolist(),\n",
    "                parents=tower_hamlets['data'][0]['parents'].tolist(),\n",
    "                values=tower_hamlets['data'][0]['values'].tolist(),\n",
    "                branchvalues='total'\n",
    "                            ),1,1)\n",
    "\n",
    "\n",
    "new_fig.add_trace(go.Sunburst(\n",
    "                labels=london['data'][0]['labels'].tolist(),\n",
    "                parents=london['data'][0]['parents'].tolist(),\n",
    "                values=london['data'][0]['values'].tolist(),\n",
    "                branchvalues='total'\n",
    "                            ),1,2)\n",
    "\n",
    "new_fig.add_trace(go.Sunburst(\n",
    "                labels=england['data'][0]['labels'].tolist(),\n",
    "                parents=england['data'][0]['parents'].tolist(),\n",
    "                values=england['data'][0]['values'].tolist(),\n",
    "                branchvalues='total'\n",
    "                            ),1,3)\n",
    "\n",
    "\n",
    "\n",
    "new_fig.update_traces(hovertemplate ='<b>Ethnic Group:</b> %{label} <br><b>Percentage:</b> %{value:.2f}%<br></b><extra></extra>')  \n",
    "\n",
    "new_fig.update_layout(height=600, width=1350,\n",
    "                        margin = dict(t=40, b=0, r=0, l=0),\n",
    "                        #title='Ethnicity- 2011'\n",
    "                        )\n",
    "\n",
    "new_fig.update_annotations(font=dict(family=\"Helvetica\", size=35))\n",
    "\n",
    "new_fig.layout.annotations[0].update(x=0.1)\n",
    "new_fig.layout.annotations[1].update(x=0.42)\n",
    "new_fig.layout.annotations[2].update(x=0.77)\n",
    "\n",
    "new_fig.show()"
   ]
  },
  {
   "cell_type": "code",
   "execution_count": 202,
   "metadata": {},
   "outputs": [],
   "source": [
    "new_fig.write_html(r\"C:\\Users\\sophie.porton\\OneDrive - Tower Hamlets Council\\Documents\\VS Code\\index.html\")"
   ]
  }
 ],
 "metadata": {
  "kernelspec": {
   "display_name": "Python 3.9.12 ('base')",
   "language": "python",
   "name": "python3"
  },
  "language_info": {
   "codemirror_mode": {
    "name": "ipython",
    "version": 3
   },
   "file_extension": ".py",
   "mimetype": "text/x-python",
   "name": "python",
   "nbconvert_exporter": "python",
   "pygments_lexer": "ipython3",
   "version": "3.9.12"
  },
  "orig_nbformat": 4,
  "vscode": {
   "interpreter": {
    "hash": "8780240cd15199c0d31e0e99a43f0d9bdf3803161400b6e4ad03b46bb5c18bc3"
   }
  }
 },
 "nbformat": 4,
 "nbformat_minor": 2
}
